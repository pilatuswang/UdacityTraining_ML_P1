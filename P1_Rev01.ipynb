{
 "cells": [
  {
   "cell_type": "markdown",
   "metadata": {},
   "source": [
    "\n",
    "\n",
    "\n",
    "\n",
    "\n",
    "\n",
    "<h2 id='part1'>Project 1: Write A Blog (Code)</h2>\n",
    "\n"
   ]
  },
  {
   "cell_type": "markdown",
   "metadata": {},
   "source": [
    "\n"
   ]
  },
  {
   "cell_type": "markdown",
   "metadata": {},
   "source": [
    "This notebook is for project \"Write A Blog Post\" for the Udacity nano degree in data science. \n",
    "The following steps for the CRISP-DM process are covered within this notebook: \n",
    "    Prepare Data,\n",
    "    Business Understanding,\n",
    "    Data Understanding,\n",
    "    Data Cleansing,\n",
    "    Data Analysis,\n",
    "    Evaluate the Results,\n",
    "    Business Summary.  "
   ]
  },
  {
   "cell_type": "markdown",
   "metadata": {},
   "source": [
    "Prepare Data: \n",
    "    load the data in. "
   ]
  },
  {
   "cell_type": "code",
   "execution_count": 33,
   "metadata": {},
   "outputs": [],
   "source": [
    "import numpy as np   \n",
    "import pandas as pd\n",
    "import matplotlib.pyplot as plt\n",
    "%matplotlib inline\n",
    "\n",
    "#Read in data\n",
    "df = pd.read_csv('./survey_results_public_P1.csv')\n",
    "schema = pd.read_csv('./survey_results_schema_P1.csv')\n",
    "\n"
   ]
  },
  {
   "cell_type": "markdown",
   "metadata": {},
   "source": [
    "Prepare Data and Business Understanding: \n",
    "     have a general review on the data set and How does the survey results look like?"
   ]
  },
  {
   "cell_type": "code",
   "execution_count": 34,
   "metadata": {},
   "outputs": [
    {
     "data": {
      "text/html": [
       "<div>\n",
       "<style scoped>\n",
       "    .dataframe tbody tr th:only-of-type {\n",
       "        vertical-align: middle;\n",
       "    }\n",
       "\n",
       "    .dataframe tbody tr th {\n",
       "        vertical-align: top;\n",
       "    }\n",
       "\n",
       "    .dataframe thead th {\n",
       "        text-align: right;\n",
       "    }\n",
       "</style>\n",
       "<table border=\"1\" class=\"dataframe\">\n",
       "  <thead>\n",
       "    <tr style=\"text-align: right;\">\n",
       "      <th></th>\n",
       "      <th>Respondent</th>\n",
       "      <th>Professional</th>\n",
       "      <th>ProgramHobby</th>\n",
       "      <th>Country</th>\n",
       "      <th>University</th>\n",
       "      <th>EmploymentStatus</th>\n",
       "      <th>FormalEducation</th>\n",
       "      <th>MajorUndergrad</th>\n",
       "      <th>HomeRemote</th>\n",
       "      <th>CompanySize</th>\n",
       "      <th>...</th>\n",
       "      <th>StackOverflowMakeMoney</th>\n",
       "      <th>Gender</th>\n",
       "      <th>HighestEducationParents</th>\n",
       "      <th>Race</th>\n",
       "      <th>SurveyLong</th>\n",
       "      <th>QuestionsInteresting</th>\n",
       "      <th>QuestionsConfusing</th>\n",
       "      <th>InterestedAnswers</th>\n",
       "      <th>Salary</th>\n",
       "      <th>ExpectedSalary</th>\n",
       "    </tr>\n",
       "  </thead>\n",
       "  <tbody>\n",
       "    <tr>\n",
       "      <th>0</th>\n",
       "      <td>1</td>\n",
       "      <td>Student</td>\n",
       "      <td>Yes, both</td>\n",
       "      <td>United States</td>\n",
       "      <td>No</td>\n",
       "      <td>Not employed, and not looking for work</td>\n",
       "      <td>Secondary school</td>\n",
       "      <td>NaN</td>\n",
       "      <td>NaN</td>\n",
       "      <td>NaN</td>\n",
       "      <td>...</td>\n",
       "      <td>Strongly disagree</td>\n",
       "      <td>Male</td>\n",
       "      <td>High school</td>\n",
       "      <td>White or of European descent</td>\n",
       "      <td>Strongly disagree</td>\n",
       "      <td>Strongly agree</td>\n",
       "      <td>Disagree</td>\n",
       "      <td>Strongly agree</td>\n",
       "      <td>NaN</td>\n",
       "      <td>NaN</td>\n",
       "    </tr>\n",
       "    <tr>\n",
       "      <th>1</th>\n",
       "      <td>2</td>\n",
       "      <td>Student</td>\n",
       "      <td>Yes, both</td>\n",
       "      <td>United Kingdom</td>\n",
       "      <td>Yes, full-time</td>\n",
       "      <td>Employed part-time</td>\n",
       "      <td>Some college/university study without earning ...</td>\n",
       "      <td>Computer science or software engineering</td>\n",
       "      <td>More than half, but not all, the time</td>\n",
       "      <td>20 to 99 employees</td>\n",
       "      <td>...</td>\n",
       "      <td>Strongly disagree</td>\n",
       "      <td>Male</td>\n",
       "      <td>A master's degree</td>\n",
       "      <td>White or of European descent</td>\n",
       "      <td>Somewhat agree</td>\n",
       "      <td>Somewhat agree</td>\n",
       "      <td>Disagree</td>\n",
       "      <td>Strongly agree</td>\n",
       "      <td>NaN</td>\n",
       "      <td>37500.0</td>\n",
       "    </tr>\n",
       "    <tr>\n",
       "      <th>2</th>\n",
       "      <td>3</td>\n",
       "      <td>Professional developer</td>\n",
       "      <td>Yes, both</td>\n",
       "      <td>United Kingdom</td>\n",
       "      <td>No</td>\n",
       "      <td>Employed full-time</td>\n",
       "      <td>Bachelor's degree</td>\n",
       "      <td>Computer science or software engineering</td>\n",
       "      <td>Less than half the time, but at least one day ...</td>\n",
       "      <td>10,000 or more employees</td>\n",
       "      <td>...</td>\n",
       "      <td>Disagree</td>\n",
       "      <td>Male</td>\n",
       "      <td>A professional degree</td>\n",
       "      <td>White or of European descent</td>\n",
       "      <td>Somewhat agree</td>\n",
       "      <td>Agree</td>\n",
       "      <td>Disagree</td>\n",
       "      <td>Agree</td>\n",
       "      <td>113750.0</td>\n",
       "      <td>NaN</td>\n",
       "    </tr>\n",
       "    <tr>\n",
       "      <th>3</th>\n",
       "      <td>4</td>\n",
       "      <td>Professional non-developer who sometimes write...</td>\n",
       "      <td>Yes, both</td>\n",
       "      <td>United States</td>\n",
       "      <td>No</td>\n",
       "      <td>Employed full-time</td>\n",
       "      <td>Doctoral degree</td>\n",
       "      <td>A non-computer-focused engineering discipline</td>\n",
       "      <td>Less than half the time, but at least one day ...</td>\n",
       "      <td>10,000 or more employees</td>\n",
       "      <td>...</td>\n",
       "      <td>Disagree</td>\n",
       "      <td>Male</td>\n",
       "      <td>A doctoral degree</td>\n",
       "      <td>White or of European descent</td>\n",
       "      <td>Agree</td>\n",
       "      <td>Agree</td>\n",
       "      <td>Somewhat agree</td>\n",
       "      <td>Strongly agree</td>\n",
       "      <td>NaN</td>\n",
       "      <td>NaN</td>\n",
       "    </tr>\n",
       "    <tr>\n",
       "      <th>4</th>\n",
       "      <td>5</td>\n",
       "      <td>Professional developer</td>\n",
       "      <td>Yes, I program as a hobby</td>\n",
       "      <td>Switzerland</td>\n",
       "      <td>No</td>\n",
       "      <td>Employed full-time</td>\n",
       "      <td>Master's degree</td>\n",
       "      <td>Computer science or software engineering</td>\n",
       "      <td>Never</td>\n",
       "      <td>10 to 19 employees</td>\n",
       "      <td>...</td>\n",
       "      <td>NaN</td>\n",
       "      <td>NaN</td>\n",
       "      <td>NaN</td>\n",
       "      <td>NaN</td>\n",
       "      <td>NaN</td>\n",
       "      <td>NaN</td>\n",
       "      <td>NaN</td>\n",
       "      <td>NaN</td>\n",
       "      <td>NaN</td>\n",
       "      <td>NaN</td>\n",
       "    </tr>\n",
       "  </tbody>\n",
       "</table>\n",
       "<p>5 rows × 154 columns</p>\n",
       "</div>"
      ],
      "text/plain": [
       "   Respondent                                       Professional  \\\n",
       "0           1                                            Student   \n",
       "1           2                                            Student   \n",
       "2           3                             Professional developer   \n",
       "3           4  Professional non-developer who sometimes write...   \n",
       "4           5                             Professional developer   \n",
       "\n",
       "                ProgramHobby         Country      University  \\\n",
       "0                  Yes, both   United States              No   \n",
       "1                  Yes, both  United Kingdom  Yes, full-time   \n",
       "2                  Yes, both  United Kingdom              No   \n",
       "3                  Yes, both   United States              No   \n",
       "4  Yes, I program as a hobby     Switzerland              No   \n",
       "\n",
       "                         EmploymentStatus  \\\n",
       "0  Not employed, and not looking for work   \n",
       "1                      Employed part-time   \n",
       "2                      Employed full-time   \n",
       "3                      Employed full-time   \n",
       "4                      Employed full-time   \n",
       "\n",
       "                                     FormalEducation  \\\n",
       "0                                   Secondary school   \n",
       "1  Some college/university study without earning ...   \n",
       "2                                  Bachelor's degree   \n",
       "3                                    Doctoral degree   \n",
       "4                                    Master's degree   \n",
       "\n",
       "                                  MajorUndergrad  \\\n",
       "0                                            NaN   \n",
       "1       Computer science or software engineering   \n",
       "2       Computer science or software engineering   \n",
       "3  A non-computer-focused engineering discipline   \n",
       "4       Computer science or software engineering   \n",
       "\n",
       "                                          HomeRemote  \\\n",
       "0                                                NaN   \n",
       "1              More than half, but not all, the time   \n",
       "2  Less than half the time, but at least one day ...   \n",
       "3  Less than half the time, but at least one day ...   \n",
       "4                                              Never   \n",
       "\n",
       "                CompanySize       ...       StackOverflowMakeMoney Gender  \\\n",
       "0                       NaN       ...            Strongly disagree   Male   \n",
       "1        20 to 99 employees       ...            Strongly disagree   Male   \n",
       "2  10,000 or more employees       ...                     Disagree   Male   \n",
       "3  10,000 or more employees       ...                     Disagree   Male   \n",
       "4        10 to 19 employees       ...                          NaN    NaN   \n",
       "\n",
       "  HighestEducationParents                          Race         SurveyLong  \\\n",
       "0             High school  White or of European descent  Strongly disagree   \n",
       "1       A master's degree  White or of European descent     Somewhat agree   \n",
       "2   A professional degree  White or of European descent     Somewhat agree   \n",
       "3       A doctoral degree  White or of European descent              Agree   \n",
       "4                     NaN                           NaN                NaN   \n",
       "\n",
       "  QuestionsInteresting QuestionsConfusing InterestedAnswers    Salary  \\\n",
       "0       Strongly agree           Disagree    Strongly agree       NaN   \n",
       "1       Somewhat agree           Disagree    Strongly agree       NaN   \n",
       "2                Agree           Disagree             Agree  113750.0   \n",
       "3                Agree     Somewhat agree    Strongly agree       NaN   \n",
       "4                  NaN                NaN               NaN       NaN   \n",
       "\n",
       "   ExpectedSalary  \n",
       "0             NaN  \n",
       "1         37500.0  \n",
       "2             NaN  \n",
       "3             NaN  \n",
       "4             NaN  \n",
       "\n",
       "[5 rows x 154 columns]"
      ]
     },
     "execution_count": 34,
     "metadata": {},
     "output_type": "execute_result"
    }
   ],
   "source": [
    "#display the head of the dataset \n",
    "df.head() "
   ]
  },
  {
   "cell_type": "markdown",
   "metadata": {},
   "source": [
    "Business Understanding: \n",
    "    how does the survey questions look like?"
   ]
  },
  {
   "cell_type": "code",
   "execution_count": 35,
   "metadata": {},
   "outputs": [
    {
     "data": {
      "text/html": [
       "<div>\n",
       "<style scoped>\n",
       "    .dataframe tbody tr th:only-of-type {\n",
       "        vertical-align: middle;\n",
       "    }\n",
       "\n",
       "    .dataframe tbody tr th {\n",
       "        vertical-align: top;\n",
       "    }\n",
       "\n",
       "    .dataframe thead th {\n",
       "        text-align: right;\n",
       "    }\n",
       "</style>\n",
       "<table border=\"1\" class=\"dataframe\">\n",
       "  <thead>\n",
       "    <tr style=\"text-align: right;\">\n",
       "      <th></th>\n",
       "      <th>Column</th>\n",
       "      <th>Question</th>\n",
       "    </tr>\n",
       "  </thead>\n",
       "  <tbody>\n",
       "    <tr>\n",
       "      <th>0</th>\n",
       "      <td>Respondent</td>\n",
       "      <td>Respondent ID number</td>\n",
       "    </tr>\n",
       "    <tr>\n",
       "      <th>1</th>\n",
       "      <td>Professional</td>\n",
       "      <td>Which of the following best describes you?</td>\n",
       "    </tr>\n",
       "    <tr>\n",
       "      <th>2</th>\n",
       "      <td>ProgramHobby</td>\n",
       "      <td>Do you program as a hobby or contribute to ope...</td>\n",
       "    </tr>\n",
       "    <tr>\n",
       "      <th>3</th>\n",
       "      <td>Country</td>\n",
       "      <td>In which country do you currently live?</td>\n",
       "    </tr>\n",
       "    <tr>\n",
       "      <th>4</th>\n",
       "      <td>University</td>\n",
       "      <td>Are you currently enrolled in a formal, degree...</td>\n",
       "    </tr>\n",
       "    <tr>\n",
       "      <th>5</th>\n",
       "      <td>EmploymentStatus</td>\n",
       "      <td>Which of the following best describes your cur...</td>\n",
       "    </tr>\n",
       "    <tr>\n",
       "      <th>6</th>\n",
       "      <td>FormalEducation</td>\n",
       "      <td>Which of the following best describes the high...</td>\n",
       "    </tr>\n",
       "    <tr>\n",
       "      <th>7</th>\n",
       "      <td>MajorUndergrad</td>\n",
       "      <td>Which of the following best describes your mai...</td>\n",
       "    </tr>\n",
       "    <tr>\n",
       "      <th>8</th>\n",
       "      <td>HomeRemote</td>\n",
       "      <td>How often do you work from home or remotely?</td>\n",
       "    </tr>\n",
       "    <tr>\n",
       "      <th>9</th>\n",
       "      <td>CompanySize</td>\n",
       "      <td>In terms of the number of employees, how large...</td>\n",
       "    </tr>\n",
       "    <tr>\n",
       "      <th>10</th>\n",
       "      <td>CompanyType</td>\n",
       "      <td>Which of the following best describes the type...</td>\n",
       "    </tr>\n",
       "    <tr>\n",
       "      <th>11</th>\n",
       "      <td>YearsProgram</td>\n",
       "      <td>How long has it been since you first learned h...</td>\n",
       "    </tr>\n",
       "    <tr>\n",
       "      <th>12</th>\n",
       "      <td>YearsCodedJob</td>\n",
       "      <td>For how many years have you coded as part of y...</td>\n",
       "    </tr>\n",
       "    <tr>\n",
       "      <th>13</th>\n",
       "      <td>YearsCodedJobPast</td>\n",
       "      <td>For how many years did you code as part of you...</td>\n",
       "    </tr>\n",
       "    <tr>\n",
       "      <th>14</th>\n",
       "      <td>DeveloperType</td>\n",
       "      <td>Which of the following best describe you?</td>\n",
       "    </tr>\n",
       "    <tr>\n",
       "      <th>15</th>\n",
       "      <td>WebDeveloperType</td>\n",
       "      <td>Which of the following best describes you as a...</td>\n",
       "    </tr>\n",
       "    <tr>\n",
       "      <th>16</th>\n",
       "      <td>MobileDeveloperType</td>\n",
       "      <td>For which of the following platforms do you de...</td>\n",
       "    </tr>\n",
       "    <tr>\n",
       "      <th>17</th>\n",
       "      <td>NonDeveloperType</td>\n",
       "      <td>Which of the following describe you?</td>\n",
       "    </tr>\n",
       "    <tr>\n",
       "      <th>18</th>\n",
       "      <td>CareerSatisfaction</td>\n",
       "      <td>Career satisfaction rating</td>\n",
       "    </tr>\n",
       "    <tr>\n",
       "      <th>19</th>\n",
       "      <td>JobSatisfaction</td>\n",
       "      <td>Job satisfaction rating</td>\n",
       "    </tr>\n",
       "    <tr>\n",
       "      <th>20</th>\n",
       "      <td>ExCoderReturn</td>\n",
       "      <td>You said before that you used to code as part ...</td>\n",
       "    </tr>\n",
       "    <tr>\n",
       "      <th>21</th>\n",
       "      <td>ExCoderNotForMe</td>\n",
       "      <td>You said before that you used to code as part ...</td>\n",
       "    </tr>\n",
       "    <tr>\n",
       "      <th>22</th>\n",
       "      <td>ExCoderBalance</td>\n",
       "      <td>You said before that you used to code as part ...</td>\n",
       "    </tr>\n",
       "    <tr>\n",
       "      <th>23</th>\n",
       "      <td>ExCoder10Years</td>\n",
       "      <td>You said before that you used to code as part ...</td>\n",
       "    </tr>\n",
       "    <tr>\n",
       "      <th>24</th>\n",
       "      <td>ExCoderBelonged</td>\n",
       "      <td>You said before that you used to code as part ...</td>\n",
       "    </tr>\n",
       "    <tr>\n",
       "      <th>25</th>\n",
       "      <td>ExCoderSkills</td>\n",
       "      <td>You said before that you used to code as part ...</td>\n",
       "    </tr>\n",
       "    <tr>\n",
       "      <th>26</th>\n",
       "      <td>ExCoderWillNotCode</td>\n",
       "      <td>You said before that you used to code as part ...</td>\n",
       "    </tr>\n",
       "    <tr>\n",
       "      <th>27</th>\n",
       "      <td>ExCoderActive</td>\n",
       "      <td>You said before that you used to code as part ...</td>\n",
       "    </tr>\n",
       "    <tr>\n",
       "      <th>28</th>\n",
       "      <td>PronounceGIF</td>\n",
       "      <td>How do you pronounce \"GIF\"?</td>\n",
       "    </tr>\n",
       "    <tr>\n",
       "      <th>29</th>\n",
       "      <td>ProblemSolving</td>\n",
       "      <td>I love solving problems</td>\n",
       "    </tr>\n",
       "    <tr>\n",
       "      <th>...</th>\n",
       "      <td>...</td>\n",
       "      <td>...</td>\n",
       "    </tr>\n",
       "    <tr>\n",
       "      <th>124</th>\n",
       "      <td>InfluenceRecruitment</td>\n",
       "      <td>How much influence do you have on purchasing d...</td>\n",
       "    </tr>\n",
       "    <tr>\n",
       "      <th>125</th>\n",
       "      <td>InfluenceCommunication</td>\n",
       "      <td>How much influence do you have on purchasing d...</td>\n",
       "    </tr>\n",
       "    <tr>\n",
       "      <th>126</th>\n",
       "      <td>StackOverflowDescribes</td>\n",
       "      <td>Which of the following best describes you?</td>\n",
       "    </tr>\n",
       "    <tr>\n",
       "      <th>127</th>\n",
       "      <td>StackOverflowSatisfaction</td>\n",
       "      <td>Stack Overflow satisfaction</td>\n",
       "    </tr>\n",
       "    <tr>\n",
       "      <th>128</th>\n",
       "      <td>StackOverflowDevices</td>\n",
       "      <td>Which of the following devices have you used t...</td>\n",
       "    </tr>\n",
       "    <tr>\n",
       "      <th>129</th>\n",
       "      <td>StackOverflowFoundAnswer</td>\n",
       "      <td>Over the last three months, approximately how ...</td>\n",
       "    </tr>\n",
       "    <tr>\n",
       "      <th>130</th>\n",
       "      <td>StackOverflowCopiedCode</td>\n",
       "      <td>Over the last three months, approximately how ...</td>\n",
       "    </tr>\n",
       "    <tr>\n",
       "      <th>131</th>\n",
       "      <td>StackOverflowJobListing</td>\n",
       "      <td>Over the last three months, approximately how ...</td>\n",
       "    </tr>\n",
       "    <tr>\n",
       "      <th>132</th>\n",
       "      <td>StackOverflowCompanyPage</td>\n",
       "      <td>Over the last three months, approximately how ...</td>\n",
       "    </tr>\n",
       "    <tr>\n",
       "      <th>133</th>\n",
       "      <td>StackOverflowJobSearch</td>\n",
       "      <td>Over the last three months, approximately how ...</td>\n",
       "    </tr>\n",
       "    <tr>\n",
       "      <th>134</th>\n",
       "      <td>StackOverflowNewQuestion</td>\n",
       "      <td>Over the last three months, approximately how ...</td>\n",
       "    </tr>\n",
       "    <tr>\n",
       "      <th>135</th>\n",
       "      <td>StackOverflowAnswer</td>\n",
       "      <td>Over the last three months, approximately how ...</td>\n",
       "    </tr>\n",
       "    <tr>\n",
       "      <th>136</th>\n",
       "      <td>StackOverflowMetaChat</td>\n",
       "      <td>Over the last three months, approximately how ...</td>\n",
       "    </tr>\n",
       "    <tr>\n",
       "      <th>137</th>\n",
       "      <td>StackOverflowAdsRelevant</td>\n",
       "      <td>The ads on Stack Overflow are relevant to me</td>\n",
       "    </tr>\n",
       "    <tr>\n",
       "      <th>138</th>\n",
       "      <td>StackOverflowAdsDistracting</td>\n",
       "      <td>The ads on Stack Overflow are distracting</td>\n",
       "    </tr>\n",
       "    <tr>\n",
       "      <th>139</th>\n",
       "      <td>StackOverflowModeration</td>\n",
       "      <td>The moderation on Stack Overflow is unfair</td>\n",
       "    </tr>\n",
       "    <tr>\n",
       "      <th>140</th>\n",
       "      <td>StackOverflowCommunity</td>\n",
       "      <td>I feel like a member of the Stack Overflow com...</td>\n",
       "    </tr>\n",
       "    <tr>\n",
       "      <th>141</th>\n",
       "      <td>StackOverflowHelpful</td>\n",
       "      <td>The answers and code examples I get on Stack O...</td>\n",
       "    </tr>\n",
       "    <tr>\n",
       "      <th>142</th>\n",
       "      <td>StackOverflowBetter</td>\n",
       "      <td>Stack Overflow makes the Internet a better place</td>\n",
       "    </tr>\n",
       "    <tr>\n",
       "      <th>143</th>\n",
       "      <td>StackOverflowWhatDo</td>\n",
       "      <td>I don't know what I'd do without Stack Overflow</td>\n",
       "    </tr>\n",
       "    <tr>\n",
       "      <th>144</th>\n",
       "      <td>StackOverflowMakeMoney</td>\n",
       "      <td>The people who run Stack Overflow are just in ...</td>\n",
       "    </tr>\n",
       "    <tr>\n",
       "      <th>145</th>\n",
       "      <td>Gender</td>\n",
       "      <td>Which of the following do you currently identi...</td>\n",
       "    </tr>\n",
       "    <tr>\n",
       "      <th>146</th>\n",
       "      <td>HighestEducationParents</td>\n",
       "      <td>What is the highest level of education receive...</td>\n",
       "    </tr>\n",
       "    <tr>\n",
       "      <th>147</th>\n",
       "      <td>Race</td>\n",
       "      <td>Which of the following do you identify as?</td>\n",
       "    </tr>\n",
       "    <tr>\n",
       "      <th>148</th>\n",
       "      <td>SurveyLong</td>\n",
       "      <td>This survey was too long</td>\n",
       "    </tr>\n",
       "    <tr>\n",
       "      <th>149</th>\n",
       "      <td>QuestionsInteresting</td>\n",
       "      <td>The questions were interesting</td>\n",
       "    </tr>\n",
       "    <tr>\n",
       "      <th>150</th>\n",
       "      <td>QuestionsConfusing</td>\n",
       "      <td>The questions were confusing</td>\n",
       "    </tr>\n",
       "    <tr>\n",
       "      <th>151</th>\n",
       "      <td>InterestedAnswers</td>\n",
       "      <td>I'm interested in learning how other developer...</td>\n",
       "    </tr>\n",
       "    <tr>\n",
       "      <th>152</th>\n",
       "      <td>Salary</td>\n",
       "      <td>What is your current annual base salary, befor...</td>\n",
       "    </tr>\n",
       "    <tr>\n",
       "      <th>153</th>\n",
       "      <td>ExpectedSalary</td>\n",
       "      <td>You said before that you are currently learnin...</td>\n",
       "    </tr>\n",
       "  </tbody>\n",
       "</table>\n",
       "<p>154 rows × 2 columns</p>\n",
       "</div>"
      ],
      "text/plain": [
       "                          Column  \\\n",
       "0                     Respondent   \n",
       "1                   Professional   \n",
       "2                   ProgramHobby   \n",
       "3                        Country   \n",
       "4                     University   \n",
       "5               EmploymentStatus   \n",
       "6                FormalEducation   \n",
       "7                 MajorUndergrad   \n",
       "8                     HomeRemote   \n",
       "9                    CompanySize   \n",
       "10                   CompanyType   \n",
       "11                  YearsProgram   \n",
       "12                 YearsCodedJob   \n",
       "13             YearsCodedJobPast   \n",
       "14                 DeveloperType   \n",
       "15              WebDeveloperType   \n",
       "16           MobileDeveloperType   \n",
       "17              NonDeveloperType   \n",
       "18            CareerSatisfaction   \n",
       "19               JobSatisfaction   \n",
       "20                 ExCoderReturn   \n",
       "21               ExCoderNotForMe   \n",
       "22                ExCoderBalance   \n",
       "23                ExCoder10Years   \n",
       "24               ExCoderBelonged   \n",
       "25                 ExCoderSkills   \n",
       "26            ExCoderWillNotCode   \n",
       "27                 ExCoderActive   \n",
       "28                  PronounceGIF   \n",
       "29                ProblemSolving   \n",
       "..                           ...   \n",
       "124         InfluenceRecruitment   \n",
       "125       InfluenceCommunication   \n",
       "126       StackOverflowDescribes   \n",
       "127    StackOverflowSatisfaction   \n",
       "128         StackOverflowDevices   \n",
       "129     StackOverflowFoundAnswer   \n",
       "130      StackOverflowCopiedCode   \n",
       "131      StackOverflowJobListing   \n",
       "132     StackOverflowCompanyPage   \n",
       "133       StackOverflowJobSearch   \n",
       "134     StackOverflowNewQuestion   \n",
       "135          StackOverflowAnswer   \n",
       "136        StackOverflowMetaChat   \n",
       "137     StackOverflowAdsRelevant   \n",
       "138  StackOverflowAdsDistracting   \n",
       "139      StackOverflowModeration   \n",
       "140       StackOverflowCommunity   \n",
       "141         StackOverflowHelpful   \n",
       "142          StackOverflowBetter   \n",
       "143          StackOverflowWhatDo   \n",
       "144       StackOverflowMakeMoney   \n",
       "145                       Gender   \n",
       "146      HighestEducationParents   \n",
       "147                         Race   \n",
       "148                   SurveyLong   \n",
       "149         QuestionsInteresting   \n",
       "150           QuestionsConfusing   \n",
       "151            InterestedAnswers   \n",
       "152                       Salary   \n",
       "153               ExpectedSalary   \n",
       "\n",
       "                                              Question  \n",
       "0                                 Respondent ID number  \n",
       "1           Which of the following best describes you?  \n",
       "2    Do you program as a hobby or contribute to ope...  \n",
       "3              In which country do you currently live?  \n",
       "4    Are you currently enrolled in a formal, degree...  \n",
       "5    Which of the following best describes your cur...  \n",
       "6    Which of the following best describes the high...  \n",
       "7    Which of the following best describes your mai...  \n",
       "8         How often do you work from home or remotely?  \n",
       "9    In terms of the number of employees, how large...  \n",
       "10   Which of the following best describes the type...  \n",
       "11   How long has it been since you first learned h...  \n",
       "12   For how many years have you coded as part of y...  \n",
       "13   For how many years did you code as part of you...  \n",
       "14           Which of the following best describe you?  \n",
       "15   Which of the following best describes you as a...  \n",
       "16   For which of the following platforms do you de...  \n",
       "17                Which of the following describe you?  \n",
       "18                          Career satisfaction rating  \n",
       "19                             Job satisfaction rating  \n",
       "20   You said before that you used to code as part ...  \n",
       "21   You said before that you used to code as part ...  \n",
       "22   You said before that you used to code as part ...  \n",
       "23   You said before that you used to code as part ...  \n",
       "24   You said before that you used to code as part ...  \n",
       "25   You said before that you used to code as part ...  \n",
       "26   You said before that you used to code as part ...  \n",
       "27   You said before that you used to code as part ...  \n",
       "28                         How do you pronounce \"GIF\"?  \n",
       "29                             I love solving problems  \n",
       "..                                                 ...  \n",
       "124  How much influence do you have on purchasing d...  \n",
       "125  How much influence do you have on purchasing d...  \n",
       "126         Which of the following best describes you?  \n",
       "127                        Stack Overflow satisfaction  \n",
       "128  Which of the following devices have you used t...  \n",
       "129  Over the last three months, approximately how ...  \n",
       "130  Over the last three months, approximately how ...  \n",
       "131  Over the last three months, approximately how ...  \n",
       "132  Over the last three months, approximately how ...  \n",
       "133  Over the last three months, approximately how ...  \n",
       "134  Over the last three months, approximately how ...  \n",
       "135  Over the last three months, approximately how ...  \n",
       "136  Over the last three months, approximately how ...  \n",
       "137       The ads on Stack Overflow are relevant to me  \n",
       "138          The ads on Stack Overflow are distracting  \n",
       "139         The moderation on Stack Overflow is unfair  \n",
       "140  I feel like a member of the Stack Overflow com...  \n",
       "141  The answers and code examples I get on Stack O...  \n",
       "142   Stack Overflow makes the Internet a better place  \n",
       "143    I don't know what I'd do without Stack Overflow  \n",
       "144  The people who run Stack Overflow are just in ...  \n",
       "145  Which of the following do you currently identi...  \n",
       "146  What is the highest level of education receive...  \n",
       "147         Which of the following do you identify as?  \n",
       "148                           This survey was too long  \n",
       "149                     The questions were interesting  \n",
       "150                       The questions were confusing  \n",
       "151  I'm interested in learning how other developer...  \n",
       "152  What is your current annual base salary, befor...  \n",
       "153  You said before that you are currently learnin...  \n",
       "\n",
       "[154 rows x 2 columns]"
      ]
     },
     "execution_count": 35,
     "metadata": {},
     "output_type": "execute_result"
    }
   ],
   "source": [
    "# How many questions are asked? What are the questions look like? \n",
    "schema"
   ]
  },
  {
   "cell_type": "markdown",
   "metadata": {},
   "source": [
    "Data Understanding: \n",
    "    define a function to count the size of the data set."
   ]
  },
  {
   "cell_type": "code",
   "execution_count": 38,
   "metadata": {},
   "outputs": [],
   "source": [
    "def DataSizeCount(num_rows, num_cols): \n",
    "    \"\"\"\n",
    "    This section is to help count the size of the dataset\"\n",
    "    \n",
    "    \"\"\"\n",
    "    print('Number of Rows: ', num_rows)\n",
    "    print('Number of Columes: ', num_cols)\n",
    "  "
   ]
  },
  {
   "cell_type": "markdown",
   "metadata": {},
   "source": [
    "Data Understanding: \n",
    "    Call the function defined to calculate the size of the data set. "
   ]
  },
  {
   "cell_type": "code",
   "execution_count": 39,
   "metadata": {},
   "outputs": [
    {
     "name": "stdout",
     "output_type": "stream",
     "text": [
      "Number of Rows:  51392\n",
      "Number of Columes:  154\n"
     ]
    }
   ],
   "source": [
    "DataSizeCount(df.shape[0],df.shape[1]) "
   ]
  },
  {
   "cell_type": "markdown",
   "metadata": {},
   "source": [
    "Data Understanding and visualization: what are the professional status of the persons taking the survey?"
   ]
  },
  {
   "cell_type": "code",
   "execution_count": 40,
   "metadata": {},
   "outputs": [
    {
     "data": {
      "image/png": "[encoded data removed]",
      "text/plain": [
       "<matplotlib.figure.Figure at 0x7fef133c6400>"
      ]
     },
     "metadata": {
      "needs_background": "light"
     },
     "output_type": "display_data"
    }
   ],
   "source": [
    "# What professional are they? \n",
    "professional_vals = df.Professional.value_counts()\n",
    "(professional_vals/df.shape[0]).plot(kind=\"bar\");\n",
    "plt.title(\"Professional Status\");"
   ]
  },
  {
   "cell_type": "markdown",
   "metadata": {},
   "source": [
    "Data Understanding: which contries does the survey taker live in?"
   ]
  },
  {
   "cell_type": "code",
   "execution_count": 41,
   "metadata": {},
   "outputs": [
    {
     "name": "stdout",
     "output_type": "stream",
     "text": [
      "United States                     11455\n",
      "India                              5197\n",
      "United Kingdom                     4395\n",
      "Germany                            4143\n",
      "Canada                             2233\n",
      "France                             1740\n",
      "Poland                             1290\n",
      "Australia                           913\n",
      "Russian Federation                  873\n",
      "Spain                               864\n",
      "Netherlands                         855\n",
      "Italy                               781\n",
      "Brazil                              777\n",
      "Sweden                              611\n",
      "Switzerland                         595\n",
      "Israel                              575\n",
      "Romania                             561\n",
      "Iran                                507\n",
      "Austria                             477\n",
      "Pakistan                            454\n",
      "Czech Republic                      411\n",
      "Belgium                             404\n",
      "South Africa                        380\n",
      "Turkey                              363\n",
      "Ukraine                             356\n",
      "Mexico                              351\n",
      "Ireland                             345\n",
      "Hungary                             332\n",
      "Philippines                         328\n",
      "Slovenia                            303\n",
      "                                  ...  \n",
      "Suriname                              2\n",
      "Saint Vincent & Grenadines            2\n",
      "Cook Islands                          1\n",
      "Heard and McDonald Islands            1\n",
      "Northern Mariana Islands              1\n",
      "Falkland Islands                      1\n",
      "Seychelles                            1\n",
      "Vatican City State                    1\n",
      "Saint Helena                          1\n",
      "French Guyana                         1\n",
      "Gabon                                 1\n",
      "Montserrat                            1\n",
      "Guam                                  1\n",
      "British Indian Ocean Territory        1\n",
      "S. Georgia & S. Sandwich Isls.        1\n",
      "Guinea                                1\n",
      "Burkina Faso                          1\n",
      "Bahamas                               1\n",
      "Gibraltar                             1\n",
      "Pitcairn Island                       1\n",
      "Djibouti                              1\n",
      "Macau                                 1\n",
      "Turkmenistan                          1\n",
      "Cape Verde                            1\n",
      "Comoros                               1\n",
      "Lesotho                               1\n",
      "Christmas Island                      1\n",
      "Chad                                  1\n",
      "Mali                                  1\n",
      "Monaco                                1\n",
      "Name: Country, Length: 201, dtype: int64\n"
     ]
    }
   ],
   "source": [
    "# how many countries? how does the country profile look like? \n",
    "country_vals = df.Country.value_counts()\n",
    "print(country_vals)"
   ]
  },
  {
   "cell_type": "markdown",
   "metadata": {},
   "source": [
    "Data Understanding and visualization: what are the top 10 countries with the highest amount of respondents?"
   ]
  },
  {
   "cell_type": "code",
   "execution_count": 43,
   "metadata": {},
   "outputs": [
    {
     "data": {
      "image/png": "[encoded data removed]",
      "text/plain": [
       "<matplotlib.figure.Figure at 0x7fef0e0d80f0>"
      ]
     },
     "metadata": {
      "needs_background": "light"
     },
     "output_type": "display_data"
    }
   ],
   "source": [
    "# Plot the bar chart of the top 10 countries \n",
    "(country_vals[:10]/df.shape[0]).plot(kind=\"bar\");\n",
    "plt.title(\"Top 10 Countries: # Respondents\");\n"
   ]
  },
  {
   "cell_type": "markdown",
   "metadata": {},
   "source": [
    "Data Cleansing and Analysis: Q1: study the salary of developers from the US and from other countries.  "
   ]
  },
  {
   "cell_type": "code",
   "execution_count": 6,
   "metadata": {},
   "outputs": [
    {
     "name": "stdout",
     "output_type": "stream",
     "text": [
      "39739.9941453\n"
     ]
    }
   ],
   "source": [
    "# calculate the average salary for other countries\n",
    "salary_mean=df.Salary[df['Country']!='United States'].mean()\n",
    "print(salary_mean)"
   ]
  },
  {
   "cell_type": "code",
   "execution_count": 7,
   "metadata": {},
   "outputs": [
    {
     "name": "stdout",
     "output_type": "stream",
     "text": [
      "37634.4086022\n"
     ]
    }
   ],
   "source": [
    "# calculate the median salary for the world\n",
    "salary_median=df.Salary[df['Country']!='United States'].median()\n",
    "print(salary_median)"
   ]
  },
  {
   "cell_type": "code",
   "execution_count": 4,
   "metadata": {},
   "outputs": [
    {
     "name": "stdout",
     "output_type": "stream",
     "text": [
      "96194.7546349\n"
     ]
    }
   ],
   "source": [
    "# calculate the average salary for US\n",
    "salary_mean_US=df.Salary[df['Country']=='United States'].mean()\n",
    "print(salary_mean_US)"
   ]
  },
  {
   "cell_type": "code",
   "execution_count": 9,
   "metadata": {},
   "outputs": [
    {
     "name": "stdout",
     "output_type": "stream",
     "text": [
      "93000.0\n"
     ]
    }
   ],
   "source": [
    "# calculate the medium salary for US\n",
    "salary_median_US=df.Salary[df['Country']=='United States'].median()\n",
    "print(salary_median_US)"
   ]
  },
  {
   "cell_type": "code",
   "execution_count": 26,
   "metadata": {},
   "outputs": [
    {
     "data": {
      "text/plain": [
       "Respondent\n",
       "31601    197000.000000\n",
       "27944    195000.000000\n",
       "6744     195000.000000\n",
       "41399    195000.000000\n",
       "1697     195000.000000\n",
       "18238    195000.000000\n",
       "32623    194000.000000\n",
       "6718     193750.000000\n",
       "30551    193000.000000\n",
       "14364    192000.000000\n",
       "2371     192000.000000\n",
       "39065    190000.000000\n",
       "6595     190000.000000\n",
       "44320    190000.000000\n",
       "22318    190000.000000\n",
       "1353     190000.000000\n",
       "17573    190000.000000\n",
       "39223    190000.000000\n",
       "14783    188000.000000\n",
       "14799    187500.000000\n",
       "9937     187200.000000\n",
       "48609    187000.000000\n",
       "12757    185000.000000\n",
       "42182    185000.000000\n",
       "15964    185000.000000\n",
       "221      185000.000000\n",
       "39191    185000.000000\n",
       "46889    185000.000000\n",
       "2139     185000.000000\n",
       "43990    184000.000000\n",
       "             ...      \n",
       "48163         7.000000\n",
       "35442         6.774950\n",
       "28432         6.354249\n",
       "24425         5.000000\n",
       "40053         3.086991\n",
       "11868         2.179837\n",
       "46170         1.744186\n",
       "43492         1.715774\n",
       "43929         1.515152\n",
       "7079          1.495774\n",
       "8155          0.757576\n",
       "46744         0.660696\n",
       "27477         0.190868\n",
       "47422         0.176186\n",
       "50102         0.146821\n",
       "3012          0.117457\n",
       "47480         0.102775\n",
       "16896         0.058729\n",
       "28717         0.058729\n",
       "29460         0.044046\n",
       "9134          0.044046\n",
       "30628         0.044046\n",
       "23415         0.029364\n",
       "9083          0.014682\n",
       "4518          0.000000\n",
       "2952          0.000000\n",
       "44842         0.000000\n",
       "23908         0.000000\n",
       "23954         0.000000\n",
       "51145         0.000000\n",
       "Name: Salary, Length: 12891, dtype: float64"
      ]
     },
     "execution_count": 26,
     "metadata": {},
     "output_type": "execute_result"
    }
   ],
   "source": [
    "# max and min for salary. Looking for the range will only require the values that have numbers. Drop the values that are not available.\n",
    "df.groupby(['Respondent']).mean()['Salary'].sort_values(ascending=False).dropna()"
   ]
  },
  {
   "cell_type": "markdown",
   "metadata": {},
   "source": [
    "Data Cleansing and Analysis: Q2: study the career satisfaction of developers from the US and from other coutnries. "
   ]
  },
  {
   "cell_type": "code",
   "execution_count": 4,
   "metadata": {},
   "outputs": [
    {
     "data": {
      "text/plain": [
       "7.6504254457050243"
      ]
     },
     "execution_count": 4,
     "metadata": {},
     "output_type": "execute_result"
    }
   ],
   "source": [
    "# averaqge career satisfaction of us developers\n",
    "df.CareerSatisfaction[df['Country']=='United States'].mean()"
   ]
  },
  {
   "cell_type": "code",
   "execution_count": 23,
   "metadata": {},
   "outputs": [
    {
     "data": {
      "text/plain": [
       "8.0"
      ]
     },
     "execution_count": 23,
     "metadata": {},
     "output_type": "execute_result"
    }
   ],
   "source": [
    "# median career satisfaction of us deveopers \n",
    "df.CareerSatisfaction[df['Country']=='United States'].median()"
   ]
  },
  {
   "cell_type": "code",
   "execution_count": 24,
   "metadata": {},
   "outputs": [
    {
     "data": {
      "text/plain": [
       "7.1953508210705905"
      ]
     },
     "execution_count": 24,
     "metadata": {},
     "output_type": "execute_result"
    }
   ],
   "source": [
    "# averaqge career satisfaction of us developers\n",
    "df.CareerSatisfaction[df['Country']!='United States'].mean()"
   ]
  },
  {
   "cell_type": "code",
   "execution_count": 25,
   "metadata": {},
   "outputs": [
    {
     "data": {
      "text/plain": [
       "7.0"
      ]
     },
     "execution_count": 25,
     "metadata": {},
     "output_type": "execute_result"
    }
   ],
   "source": [
    "# averaqge career satisfaction of us developers\n",
    "df.CareerSatisfaction[df['Country']!='United States'].median()"
   ]
  },
  {
   "cell_type": "code",
   "execution_count": 21,
   "metadata": {},
   "outputs": [
    {
     "data": {
      "text/plain": [
       "Respondent\n",
       "30157    10.0\n",
       "15973    10.0\n",
       "45800    10.0\n",
       "34572    10.0\n",
       "45804    10.0\n",
       "32327    10.0\n",
       "7451     10.0\n",
       "45807    10.0\n",
       "15990    10.0\n",
       "7447     10.0\n",
       "7446     10.0\n",
       "15991    10.0\n",
       "15992    10.0\n",
       "15994    10.0\n",
       "34578    10.0\n",
       "26930    10.0\n",
       "7430     10.0\n",
       "16005    10.0\n",
       "7407     10.0\n",
       "26938    10.0\n",
       "16019    10.0\n",
       "45835    10.0\n",
       "26958    10.0\n",
       "15975    10.0\n",
       "45797    10.0\n",
       "26907    10.0\n",
       "26924    10.0\n",
       "7549     10.0\n",
       "15928    10.0\n",
       "45758    10.0\n",
       "         ... \n",
       "20555     0.0\n",
       "38046     0.0\n",
       "36740     0.0\n",
       "31277     0.0\n",
       "15910     0.0\n",
       "36712     0.0\n",
       "2308      0.0\n",
       "13546     0.0\n",
       "9107      0.0\n",
       "30682     0.0\n",
       "26105     0.0\n",
       "39970     0.0\n",
       "29792     0.0\n",
       "36629     0.0\n",
       "49676     0.0\n",
       "44894     0.0\n",
       "11017     0.0\n",
       "26023     0.0\n",
       "11024     0.0\n",
       "39937     0.0\n",
       "22426     0.0\n",
       "47156     0.0\n",
       "9047      0.0\n",
       "23899     0.0\n",
       "33011     0.0\n",
       "35481     0.0\n",
       "28603     0.0\n",
       "2201      0.0\n",
       "16022     0.0\n",
       "47290     0.0\n",
       "Name: CareerSatisfaction, Length: 42695, dtype: float64"
      ]
     },
     "execution_count": 21,
     "metadata": {},
     "output_type": "execute_result"
    }
   ],
   "source": [
    "# max and min for career satisfaction. Looking for the range will only require the values that have numbers. Drop the values that are not available.\n",
    "df.groupby(['Respondent']).mean()['CareerSatisfaction'].sort_values(ascending=False).dropna()"
   ]
  },
  {
   "cell_type": "markdown",
   "metadata": {},
   "source": [
    "Data Cleansing and Analysis: Q3: study the job satisfaction of the developers from the US and the other coutries. "
   ]
  },
  {
   "cell_type": "code",
   "execution_count": 12,
   "metadata": {},
   "outputs": [
    {
     "data": {
      "text/plain": [
       "7.1785024672816995"
      ]
     },
     "execution_count": 12,
     "metadata": {},
     "output_type": "execute_result"
    }
   ],
   "source": [
    "# average job satisfaction for US developers\n",
    "df.JobSatisfaction[df['Country']=='United States'].mean()"
   ]
  },
  {
   "cell_type": "code",
   "execution_count": 14,
   "metadata": {},
   "outputs": [
    {
     "data": {
      "text/plain": [
       "8.0"
      ]
     },
     "execution_count": 14,
     "metadata": {},
     "output_type": "execute_result"
    }
   ],
   "source": [
    "# median job satisfaction for US developers \n",
    "df.JobSatisfaction[df['Country']=='United States'].median()"
   ]
  },
  {
   "cell_type": "code",
   "execution_count": 15,
   "metadata": {},
   "outputs": [
    {
     "data": {
      "text/plain": [
       "6.8906099053262055"
      ]
     },
     "execution_count": 15,
     "metadata": {},
     "output_type": "execute_result"
    }
   ],
   "source": [
    "# average job satisfaction for non US developers\n",
    "df.JobSatisfaction[df['Country']!='United States'].mean()"
   ]
  },
  {
   "cell_type": "code",
   "execution_count": 16,
   "metadata": {},
   "outputs": [
    {
     "data": {
      "text/plain": [
       "7.0"
      ]
     },
     "execution_count": 16,
     "metadata": {},
     "output_type": "execute_result"
    }
   ],
   "source": [
    "# median job satisfaction for non US developers \n",
    "df.JobSatisfaction[df['Country']!='United States'].median()"
   ]
  },
  {
   "cell_type": "code",
   "execution_count": 19,
   "metadata": {},
   "outputs": [
    {
     "data": {
      "text/plain": [
       "Respondent\n",
       "36976    10.0\n",
       "46257    10.0\n",
       "21867    10.0\n",
       "8036     10.0\n",
       "37928    10.0\n",
       "37926    10.0\n",
       "21905    10.0\n",
       "8009     10.0\n",
       "21938    10.0\n",
       "21940    10.0\n",
       "21959    10.0\n",
       "7982     10.0\n",
       "7978     10.0\n",
       "21963    10.0\n",
       "37890    10.0\n",
       "21964    10.0\n",
       "21967    10.0\n",
       "7963     10.0\n",
       "37886    10.0\n",
       "21860    10.0\n",
       "8044     10.0\n",
       "21824    10.0\n",
       "21738    10.0\n",
       "8160     10.0\n",
       "38006    10.0\n",
       "21725    10.0\n",
       "21726    10.0\n",
       "8124     10.0\n",
       "8123     10.0\n",
       "21728    10.0\n",
       "         ... \n",
       "19351     0.0\n",
       "46076     0.0\n",
       "43674     0.0\n",
       "33038     0.0\n",
       "22006     0.0\n",
       "8358      0.0\n",
       "16885     0.0\n",
       "23925     0.0\n",
       "31882     0.0\n",
       "43681     0.0\n",
       "30986     0.0\n",
       "24977     0.0\n",
       "7349      0.0\n",
       "28603     0.0\n",
       "50081     0.0\n",
       "38477     0.0\n",
       "30220     0.0\n",
       "17649     0.0\n",
       "4113      0.0\n",
       "14174     0.0\n",
       "19957     0.0\n",
       "23899     0.0\n",
       "11132     0.0\n",
       "32009     0.0\n",
       "51092     0.0\n",
       "38990     0.0\n",
       "30232     0.0\n",
       "34376     0.0\n",
       "8310      0.0\n",
       "34671     0.0\n",
       "Name: JobSatisfaction, Length: 40376, dtype: float64"
      ]
     },
     "execution_count": 19,
     "metadata": {},
     "output_type": "execute_result"
    }
   ],
   "source": [
    "# max and min for job satisfaction. Looking for the range will only require the values that have numbers. Drop the values that are not available. \n",
    "df.groupby(['Respondent']).mean()['JobSatisfaction'].sort_values(ascending=False).dropna()"
   ]
  },
  {
   "cell_type": "markdown",
   "metadata": {},
   "source": [
    "Evaluate the Results and Business Summary: the analysis above shows that the software engineers from the U.S. has higher salary, career satisfaction, and job satisfaction than those from any other countries in the world. "
   ]
  }
 ],
 "metadata": {
  "kernelspec": {
   "display_name": "Python 3",
   "language": "python",
   "name": "python3"
  },
  "language_info": {
   "codemirror_mode": {
    "name": "ipython",
    "version": 3
   },
   "file_extension": ".py",
   "mimetype": "text/x-python",
   "name": "python",
   "nbconvert_exporter": "python",
   "pygments_lexer": "ipython3",
   "version": "3.6.3"
  }
 },
 "nbformat": 4,
 "nbformat_minor": 2
}
